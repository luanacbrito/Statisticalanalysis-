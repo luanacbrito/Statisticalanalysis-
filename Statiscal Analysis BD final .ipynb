{
 "cells": [
  {
   "cell_type": "code",
   "execution_count": 1,
   "metadata": {},
   "outputs": [
    {
     "data": {
      "text/plain": [
       "('UNSW-NB15.csv', <http.client.HTTPMessage at 0x7f8b28614490>)"
      ]
     },
     "execution_count": 1,
     "metadata": {},
     "output_type": "execute_result"
    }
   ],
   "source": [
    "import urllib.request \n",
    "\n",
    "urllib.request.urlretrieve(\"https://www.dropbox.com/s/4xqg32ih9xoh5jq/UNSW-NB15.csv?dl=1\", \"UNSW-NB15.csv\")"
   ]
  },
  {
   "cell_type": "code",
   "execution_count": 2,
   "metadata": {},
   "outputs": [],
   "source": [
    "unsw_rdd = sc.textFile(\"./UNSW-NB15.csv\")"
   ]
  },
  {
   "cell_type": "code",
   "execution_count": 4,
   "metadata": {},
   "outputs": [],
   "source": [
    "def AddNormalLabel(line): \n",
    "    line = line.split(\",\") \n",
    "    if line[47] == \"\": \n",
    "        line[47] = 'normal' \n",
    "\n",
    "    return line"
   ]
  },
  {
   "cell_type": "code",
   "execution_count": 9,
   "metadata": {},
   "outputs": [
    {
     "data": {
      "text/plain": [
       "[['59.166.0.3',\n",
       "  '56716',\n",
       "  '149.171.126.8',\n",
       "  '143',\n",
       "  'tcp',\n",
       "  'FIN',\n",
       "  '0.82546002',\n",
       "  '7812',\n",
       "  '16236',\n",
       "  '31',\n",
       "  '29',\n",
       "  '30',\n",
       "  '32',\n",
       "  '-',\n",
       "  '75090.25',\n",
       "  '156111.73',\n",
       "  '122',\n",
       "  '126',\n",
       "  '255',\n",
       "  '255',\n",
       "  '2751097753',\n",
       "  '2748686736',\n",
       "  '64',\n",
       "  '129',\n",
       "  '0',\n",
       "  '0',\n",
       "  '445.25928',\n",
       "  '474.9451',\n",
       "  '1421970774',\n",
       "  '1421970775',\n",
       "  '6.8190908',\n",
       "  '6.599896',\n",
       "  '5.9700001E-4',\n",
       "  '4.6899999E-4',\n",
       "  '0.000128',\n",
       "  '0',\n",
       "  '0',\n",
       "  '0',\n",
       "  '0',\n",
       "  '0',\n",
       "  '2',\n",
       "  '7',\n",
       "  '1',\n",
       "  '4',\n",
       "  '1',\n",
       "  '1',\n",
       "  '1',\n",
       "  'normal',\n",
       "  '0'],\n",
       " ['59.166.0.0',\n",
       "  '43467',\n",
       "  '149.171.126.6',\n",
       "  '49729',\n",
       "  'tcp',\n",
       "  'FIN',\n",
       "  '0.101815',\n",
       "  '4238',\n",
       "  '65628',\n",
       "  '31',\n",
       "  '29',\n",
       "  '7',\n",
       "  '30',\n",
       "  '-',\n",
       "  '328438.84',\n",
       "  '5087030.5',\n",
       "  '72',\n",
       "  '74',\n",
       "  '255',\n",
       "  '255',\n",
       "  '961515433',\n",
       "  '3225510659',\n",
       "  '59',\n",
       "  '887',\n",
       "  '0',\n",
       "  '0',\n",
       "  '0',\n",
       "  '91.579567',\n",
       "  '1421970775',\n",
       "  '1421970775',\n",
       "  '1.429493',\n",
       "  '1.387192',\n",
       "  '0.00068',\n",
       "  '5.4600002E-4',\n",
       "  '0.000134',\n",
       "  '0',\n",
       "  '0',\n",
       "  '0',\n",
       "  '0',\n",
       "  '0',\n",
       "  '7',\n",
       "  '4',\n",
       "  '1',\n",
       "  '6',\n",
       "  '1',\n",
       "  '1',\n",
       "  '1',\n",
       "  'normal',\n",
       "  '0']]"
      ]
     },
     "execution_count": 9,
     "metadata": {},
     "output_type": "execute_result"
    }
   ],
   "source": [
    "# convert empty value to 'normal' in col. 47 \n",
    "unsw_update_rdd = unsw_rdd.map(AddNormalLabel)\n",
    "unsw_update_rdd.take(2)"
   ]
  },
  {
   "cell_type": "code",
   "execution_count": 10,
   "metadata": {},
   "outputs": [],
   "source": [
    "features=['srcip','sport','dstip','dsport','proto','state','dur','sbytes','dbytes','sttl','dttl','sloss',\n",
    "          'dloss','service','Sload','Dload','Spkts','Dpkts','swin','dwin','stcpb','dtcpb','smeansz',\n",
    "          'dmeansz','trans_depth','res_bdy_len','Sjit','Djit','Stime','Ltime','Sintpkt','Dintpkt','tcprtt',\n",
    "          'synack','ackdat','is_sm_ips_ports','ct_state_ttl','ct_flw_http_mthd','is_ftp_login','ct_ftp_cmd',\n",
    "          'ct_srv_src','ct_srv_dst','ct_dst_ltm','ct_src_ltm','ct_src_dport_ltm','ct_dst_sport_ltm',\n",
    "          'ct_dst_src_ltm','attack_cat','Label'] \n",
    "df_unsw = spark.createDataFrame(unsw_update_rdd, features)"
   ]
  },
  {
   "cell_type": "code",
   "execution_count": 11,
   "metadata": {},
   "outputs": [
    {
     "name": "stdout",
     "output_type": "stream",
     "text": [
      "+-------+------------------+\n",
      "|summary|            sbytes|\n",
      "+-------+------------------+\n",
      "|  count|           2539739|\n",
      "|   mean| 4340.072263330996|\n",
      "| stddev|56409.398122862396|\n",
      "|    min|                 0|\n",
      "|    max|              9999|\n",
      "+-------+------------------+\n",
      "\n"
     ]
    }
   ],
   "source": [
    "#descriptive analysis\n",
    "\n",
    "df_unsw.select('sbytes').describe().show()"
   ]
  },
  {
   "cell_type": "code",
   "execution_count": 12,
   "metadata": {},
   "outputs": [],
   "source": [
    "#convert features to int/float\n",
    "\n",
    "from pyspark.sql.functions import col \n",
    "Desired_features = ['dbytes', 'sload', 'spkts', 'dpkts'] \n",
    "df_unsw_cast = df_unsw.select(*(col(c).cast('float').alias(c) for c in Desired_features))"
   ]
  },
  {
   "cell_type": "code",
   "execution_count": 14,
   "metadata": {},
   "outputs": [
    {
     "name": "stdout",
     "output_type": "stream",
     "text": [
      "[[135376.25], [589303.75], [2038365.375]]\n"
     ]
    }
   ],
   "source": [
    "#approximate quantiles \n",
    "Q1 = df_unsw_cast.approxQuantile('sload', [0.25], 0) \n",
    "Q2 = df_unsw_cast.approxQuantile('sload', [0.5], 0) \n",
    "Q3 = df_unsw_cast.approxQuantile('sload', [0.75], 0) \n",
    "\n",
    "print([Q1, Q2, Q3])"
   ]
  },
  {
   "cell_type": "code",
   "execution_count": 15,
   "metadata": {},
   "outputs": [
    {
     "name": "stdout",
     "output_type": "stream",
     "text": [
      "+-----------------+-----------------+\n",
      "| skewness(dbytes)|  skewness(dpkts)|\n",
      "+-----------------+-----------------+\n",
      "|9.088530888998685|8.483613608319839|\n",
      "+-----------------+-----------------+\n",
      "\n"
     ]
    }
   ],
   "source": [
    "from pyspark.sql import functions as f \n",
    "df_unsw_cast.select(f.skewness(df_unsw_cast['dbytes']), f.skewness(df_unsw_cast['dpkts'])).show()"
   ]
  },
  {
   "cell_type": "code",
   "execution_count": 16,
   "metadata": {},
   "outputs": [
    {
     "name": "stdout",
     "output_type": "stream",
     "text": [
      "+------------------+-----------------+\n",
      "|   kurtosis(spkts)| kurtosis(dbytes)|\n",
      "+------------------+-----------------+\n",
      "|2265.4430659202717|261.8368671169627|\n",
      "+------------------+-----------------+\n",
      "\n"
     ]
    }
   ],
   "source": [
    "df_unsw_cast.select(f.kurtosis(df_unsw_cast['spkts']), f.kurtosis(df_unsw_cast['dbytes'])).show()"
   ]
  },
  {
   "cell_type": "code",
   "execution_count": null,
   "metadata": {},
   "outputs": [],
   "source": []
  }
 ],
 "metadata": {
  "kernelspec": {
   "display_name": "Python 3",
   "language": "python",
   "name": "python3"
  },
  "language_info": {
   "codemirror_mode": {
    "name": "ipython",
    "version": 3
   },
   "file_extension": ".py",
   "mimetype": "text/x-python",
   "name": "python",
   "nbconvert_exporter": "python",
   "pygments_lexer": "ipython3",
   "version": "3.7.4"
  }
 },
 "nbformat": 4,
 "nbformat_minor": 2
}
